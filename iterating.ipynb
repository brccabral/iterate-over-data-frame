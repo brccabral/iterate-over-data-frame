{
 "cells": [
  {
   "cell_type": "markdown",
   "metadata": {},
   "source": [
    "# Wordle Tweets\n",
    "\n",
    "Determine the average number of attempts to solve a Wordle puzzle by examining tweets with Wordle scores. "
   ]
  },
  {
   "cell_type": "code",
   "execution_count": 1,
   "metadata": {},
   "outputs": [],
   "source": [
    "# Read in the tweets. There are two datasets - tweetsSmall.csv (~17K rows) \n",
    "# and tweetsBig (~175K rows)\n",
    "\n",
    "import pandas as pd\n",
    "\n",
    "df_tweets = pd.read_csv('tweetsBig.csv', delimiter=',', header='infer')\n"
   ]
  },
  {
   "cell_type": "code",
   "execution_count": 22,
   "metadata": {},
   "outputs": [
    {
     "name": "stdout",
     "output_type": "stream",
     "text": [
      "4.067405564351956\n"
     ]
    }
   ],
   "source": [
    "# iterrows - slow\n",
    "\n",
    "for index, row in df_tweets.iterrows():\n",
    "    slashIndex = row['tweet_text'].index('/')\n",
    "    attempts = float(row['tweet_text'][slashIndex-1])\n",
    "    df_tweets.loc[index, 'attempts'] = attempts\n",
    "\n",
    "print(df_tweets['attempts'].mean())\n"
   ]
  },
  {
   "cell_type": "code",
   "execution_count": 2,
   "metadata": {},
   "outputs": [
    {
     "name": "stdout",
     "output_type": "stream",
     "text": [
      "4.067405564351956\n"
     ]
    }
   ],
   "source": [
    "# Series - vectorized and FAST\n",
    "\n",
    "def count_attempts_apply(tweet_text_series: pd.Series) -> pd.Series:\n",
    "    slashIndex = tweet_text_series.index('/')\n",
    "    attempts_series = tweet_text_series[slashIndex-1]\n",
    "    return float(attempts_series)\n",
    "\n",
    "df_tweets['attempts'] = df_tweets['tweet_text'].apply(count_attempts_apply)\n",
    "\n",
    "print(df_tweets['attempts'].mean())"
   ]
  }
 ],
 "metadata": {
  "interpreter": {
   "hash": "f3d0311791269c0d529e69ddb49e10e0b14f887f28d32669181a0b22484bc0d3"
  },
  "kernelspec": {
   "display_name": "Python 3.8.8 ('base')",
   "language": "python",
   "name": "python3"
  },
  "language_info": {
   "codemirror_mode": {
    "name": "ipython",
    "version": 3
   },
   "file_extension": ".py",
   "mimetype": "text/x-python",
   "name": "python",
   "nbconvert_exporter": "python",
   "pygments_lexer": "ipython3",
   "version": "3.8.8"
  },
  "orig_nbformat": 4
 },
 "nbformat": 4,
 "nbformat_minor": 2
}
